{
  "nbformat": 4,
  "nbformat_minor": 0,
  "metadata": {
    "colab": {
      "name": "Calories Vs Exercise Project1.ipynb",
      "provenance": []
    },
    "kernelspec": {
      "name": "python3",
      "display_name": "Python 3"
    }
  },
  "cells": [
    {
      "cell_type": "code",
      "metadata": {
        "id": "SIF8gqhZGDij"
      },
      "source": [
        "import numpy as np\r\n",
        "import matplotlib.pyplot as plt\r\n",
        "import pandas as pd"
      ],
      "execution_count": 34,
      "outputs": []
    },
    {
      "cell_type": "code",
      "metadata": {
        "id": "kGkD_BBzGTro"
      },
      "source": [
        "data_1 = pd.read_csv('calories.csv')\r\n",
        "data_2 = pd.read_csv('exercise.csv')"
      ],
      "execution_count": 35,
      "outputs": []
    },
    {
      "cell_type": "code",
      "metadata": {
        "id": "dqMCa2FmGhoW"
      },
      "source": [
        "data = data_2.merge(data_1,on='User_ID')"
      ],
      "execution_count": 36,
      "outputs": []
    },
    {
      "cell_type": "code",
      "metadata": {
        "colab": {
          "base_uri": "https://localhost:8080/",
          "height": 439
        },
        "id": "G9EGWSTGH3H7",
        "outputId": "a70dfcd7-10b4-4adc-dddc-3163afeeecad"
      },
      "source": [
        "data"
      ],
      "execution_count": 37,
      "outputs": [
        {
          "output_type": "execute_result",
          "data": {
            "text/html": [
              "<div>\n",
              "<style scoped>\n",
              "    .dataframe tbody tr th:only-of-type {\n",
              "        vertical-align: middle;\n",
              "    }\n",
              "\n",
              "    .dataframe tbody tr th {\n",
              "        vertical-align: top;\n",
              "    }\n",
              "\n",
              "    .dataframe thead th {\n",
              "        text-align: right;\n",
              "    }\n",
              "</style>\n",
              "<table border=\"1\" class=\"dataframe\">\n",
              "  <thead>\n",
              "    <tr style=\"text-align: right;\">\n",
              "      <th></th>\n",
              "      <th>User_ID</th>\n",
              "      <th>Gender</th>\n",
              "      <th>Age</th>\n",
              "      <th>Height</th>\n",
              "      <th>Weight</th>\n",
              "      <th>Duration</th>\n",
              "      <th>Heart_Rate</th>\n",
              "      <th>Body_Temp</th>\n",
              "      <th>Calories_x</th>\n",
              "      <th>Calories_y</th>\n",
              "    </tr>\n",
              "  </thead>\n",
              "  <tbody>\n",
              "    <tr>\n",
              "      <th>0</th>\n",
              "      <td>14733363</td>\n",
              "      <td>male</td>\n",
              "      <td>68</td>\n",
              "      <td>190</td>\n",
              "      <td>94</td>\n",
              "      <td>29</td>\n",
              "      <td>105</td>\n",
              "      <td>40.8</td>\n",
              "      <td>231</td>\n",
              "      <td>231.0</td>\n",
              "    </tr>\n",
              "    <tr>\n",
              "      <th>1</th>\n",
              "      <td>14861698</td>\n",
              "      <td>female</td>\n",
              "      <td>20</td>\n",
              "      <td>166</td>\n",
              "      <td>60</td>\n",
              "      <td>14</td>\n",
              "      <td>94</td>\n",
              "      <td>40.3</td>\n",
              "      <td>66</td>\n",
              "      <td>66.0</td>\n",
              "    </tr>\n",
              "    <tr>\n",
              "      <th>2</th>\n",
              "      <td>11179863</td>\n",
              "      <td>male</td>\n",
              "      <td>69</td>\n",
              "      <td>179</td>\n",
              "      <td>79</td>\n",
              "      <td>5</td>\n",
              "      <td>88</td>\n",
              "      <td>38.7</td>\n",
              "      <td>26</td>\n",
              "      <td>26.0</td>\n",
              "    </tr>\n",
              "    <tr>\n",
              "      <th>3</th>\n",
              "      <td>16180408</td>\n",
              "      <td>female</td>\n",
              "      <td>34</td>\n",
              "      <td>179</td>\n",
              "      <td>71</td>\n",
              "      <td>13</td>\n",
              "      <td>100</td>\n",
              "      <td>40.5</td>\n",
              "      <td>71</td>\n",
              "      <td>71.0</td>\n",
              "    </tr>\n",
              "    <tr>\n",
              "      <th>4</th>\n",
              "      <td>17771927</td>\n",
              "      <td>female</td>\n",
              "      <td>27</td>\n",
              "      <td>154</td>\n",
              "      <td>58</td>\n",
              "      <td>10</td>\n",
              "      <td>81</td>\n",
              "      <td>39.8</td>\n",
              "      <td>35</td>\n",
              "      <td>35.0</td>\n",
              "    </tr>\n",
              "    <tr>\n",
              "      <th>...</th>\n",
              "      <td>...</td>\n",
              "      <td>...</td>\n",
              "      <td>...</td>\n",
              "      <td>...</td>\n",
              "      <td>...</td>\n",
              "      <td>...</td>\n",
              "      <td>...</td>\n",
              "      <td>...</td>\n",
              "      <td>...</td>\n",
              "      <td>...</td>\n",
              "    </tr>\n",
              "    <tr>\n",
              "      <th>14995</th>\n",
              "      <td>15644082</td>\n",
              "      <td>female</td>\n",
              "      <td>20</td>\n",
              "      <td>193</td>\n",
              "      <td>86</td>\n",
              "      <td>11</td>\n",
              "      <td>92</td>\n",
              "      <td>40.4</td>\n",
              "      <td>45</td>\n",
              "      <td>45.0</td>\n",
              "    </tr>\n",
              "    <tr>\n",
              "      <th>14996</th>\n",
              "      <td>17212577</td>\n",
              "      <td>female</td>\n",
              "      <td>27</td>\n",
              "      <td>165</td>\n",
              "      <td>65</td>\n",
              "      <td>6</td>\n",
              "      <td>85</td>\n",
              "      <td>39.2</td>\n",
              "      <td>23</td>\n",
              "      <td>23.0</td>\n",
              "    </tr>\n",
              "    <tr>\n",
              "      <th>14997</th>\n",
              "      <td>17271188</td>\n",
              "      <td>female</td>\n",
              "      <td>43</td>\n",
              "      <td>159</td>\n",
              "      <td>58</td>\n",
              "      <td>16</td>\n",
              "      <td>90</td>\n",
              "      <td>40.1</td>\n",
              "      <td>75</td>\n",
              "      <td>75.0</td>\n",
              "    </tr>\n",
              "    <tr>\n",
              "      <th>14998</th>\n",
              "      <td>18643037</td>\n",
              "      <td>male</td>\n",
              "      <td>78</td>\n",
              "      <td>193</td>\n",
              "      <td>97</td>\n",
              "      <td>2</td>\n",
              "      <td>84</td>\n",
              "      <td>38.3</td>\n",
              "      <td>11</td>\n",
              "      <td>11.0</td>\n",
              "    </tr>\n",
              "    <tr>\n",
              "      <th>14999</th>\n",
              "      <td>11751526</td>\n",
              "      <td>male</td>\n",
              "      <td>63</td>\n",
              "      <td>173</td>\n",
              "      <td>79</td>\n",
              "      <td>18</td>\n",
              "      <td>92</td>\n",
              "      <td>40.5</td>\n",
              "      <td>98</td>\n",
              "      <td>98.0</td>\n",
              "    </tr>\n",
              "  </tbody>\n",
              "</table>\n",
              "<p>15000 rows × 10 columns</p>\n",
              "</div>"
            ],
            "text/plain": [
              "        User_ID  Gender  Age  ...  Body_Temp  Calories_x  Calories_y\n",
              "0      14733363    male   68  ...       40.8         231       231.0\n",
              "1      14861698  female   20  ...       40.3          66        66.0\n",
              "2      11179863    male   69  ...       38.7          26        26.0\n",
              "3      16180408  female   34  ...       40.5          71        71.0\n",
              "4      17771927  female   27  ...       39.8          35        35.0\n",
              "...         ...     ...  ...  ...        ...         ...         ...\n",
              "14995  15644082  female   20  ...       40.4          45        45.0\n",
              "14996  17212577  female   27  ...       39.2          23        23.0\n",
              "14997  17271188  female   43  ...       40.1          75        75.0\n",
              "14998  18643037    male   78  ...       38.3          11        11.0\n",
              "14999  11751526    male   63  ...       40.5          98        98.0\n",
              "\n",
              "[15000 rows x 10 columns]"
            ]
          },
          "metadata": {
            "tags": []
          },
          "execution_count": 37
        }
      ]
    },
    {
      "cell_type": "code",
      "metadata": {
        "id": "mVKO3wlpH5UW"
      },
      "source": [
        "data_fin = data.drop('Calories_x',axis=1)"
      ],
      "execution_count": 38,
      "outputs": []
    },
    {
      "cell_type": "code",
      "metadata": {
        "colab": {
          "base_uri": "https://localhost:8080/",
          "height": 439
        },
        "id": "XXewpolWISzr",
        "outputId": "590f5436-9275-479c-b04d-ac5638d83ca4"
      },
      "source": [
        "data_fin"
      ],
      "execution_count": 41,
      "outputs": [
        {
          "output_type": "execute_result",
          "data": {
            "text/html": [
              "<div>\n",
              "<style scoped>\n",
              "    .dataframe tbody tr th:only-of-type {\n",
              "        vertical-align: middle;\n",
              "    }\n",
              "\n",
              "    .dataframe tbody tr th {\n",
              "        vertical-align: top;\n",
              "    }\n",
              "\n",
              "    .dataframe thead th {\n",
              "        text-align: right;\n",
              "    }\n",
              "</style>\n",
              "<table border=\"1\" class=\"dataframe\">\n",
              "  <thead>\n",
              "    <tr style=\"text-align: right;\">\n",
              "      <th></th>\n",
              "      <th>User_ID</th>\n",
              "      <th>Gender</th>\n",
              "      <th>Age</th>\n",
              "      <th>Height</th>\n",
              "      <th>Weight</th>\n",
              "      <th>Duration</th>\n",
              "      <th>Heart_Rate</th>\n",
              "      <th>Body_Temp</th>\n",
              "      <th>Calories</th>\n",
              "    </tr>\n",
              "  </thead>\n",
              "  <tbody>\n",
              "    <tr>\n",
              "      <th>0</th>\n",
              "      <td>14733363</td>\n",
              "      <td>male</td>\n",
              "      <td>68</td>\n",
              "      <td>190</td>\n",
              "      <td>94</td>\n",
              "      <td>29</td>\n",
              "      <td>105</td>\n",
              "      <td>40.8</td>\n",
              "      <td>231.0</td>\n",
              "    </tr>\n",
              "    <tr>\n",
              "      <th>1</th>\n",
              "      <td>14861698</td>\n",
              "      <td>female</td>\n",
              "      <td>20</td>\n",
              "      <td>166</td>\n",
              "      <td>60</td>\n",
              "      <td>14</td>\n",
              "      <td>94</td>\n",
              "      <td>40.3</td>\n",
              "      <td>66.0</td>\n",
              "    </tr>\n",
              "    <tr>\n",
              "      <th>2</th>\n",
              "      <td>11179863</td>\n",
              "      <td>male</td>\n",
              "      <td>69</td>\n",
              "      <td>179</td>\n",
              "      <td>79</td>\n",
              "      <td>5</td>\n",
              "      <td>88</td>\n",
              "      <td>38.7</td>\n",
              "      <td>26.0</td>\n",
              "    </tr>\n",
              "    <tr>\n",
              "      <th>3</th>\n",
              "      <td>16180408</td>\n",
              "      <td>female</td>\n",
              "      <td>34</td>\n",
              "      <td>179</td>\n",
              "      <td>71</td>\n",
              "      <td>13</td>\n",
              "      <td>100</td>\n",
              "      <td>40.5</td>\n",
              "      <td>71.0</td>\n",
              "    </tr>\n",
              "    <tr>\n",
              "      <th>4</th>\n",
              "      <td>17771927</td>\n",
              "      <td>female</td>\n",
              "      <td>27</td>\n",
              "      <td>154</td>\n",
              "      <td>58</td>\n",
              "      <td>10</td>\n",
              "      <td>81</td>\n",
              "      <td>39.8</td>\n",
              "      <td>35.0</td>\n",
              "    </tr>\n",
              "    <tr>\n",
              "      <th>...</th>\n",
              "      <td>...</td>\n",
              "      <td>...</td>\n",
              "      <td>...</td>\n",
              "      <td>...</td>\n",
              "      <td>...</td>\n",
              "      <td>...</td>\n",
              "      <td>...</td>\n",
              "      <td>...</td>\n",
              "      <td>...</td>\n",
              "    </tr>\n",
              "    <tr>\n",
              "      <th>14995</th>\n",
              "      <td>15644082</td>\n",
              "      <td>female</td>\n",
              "      <td>20</td>\n",
              "      <td>193</td>\n",
              "      <td>86</td>\n",
              "      <td>11</td>\n",
              "      <td>92</td>\n",
              "      <td>40.4</td>\n",
              "      <td>45.0</td>\n",
              "    </tr>\n",
              "    <tr>\n",
              "      <th>14996</th>\n",
              "      <td>17212577</td>\n",
              "      <td>female</td>\n",
              "      <td>27</td>\n",
              "      <td>165</td>\n",
              "      <td>65</td>\n",
              "      <td>6</td>\n",
              "      <td>85</td>\n",
              "      <td>39.2</td>\n",
              "      <td>23.0</td>\n",
              "    </tr>\n",
              "    <tr>\n",
              "      <th>14997</th>\n",
              "      <td>17271188</td>\n",
              "      <td>female</td>\n",
              "      <td>43</td>\n",
              "      <td>159</td>\n",
              "      <td>58</td>\n",
              "      <td>16</td>\n",
              "      <td>90</td>\n",
              "      <td>40.1</td>\n",
              "      <td>75.0</td>\n",
              "    </tr>\n",
              "    <tr>\n",
              "      <th>14998</th>\n",
              "      <td>18643037</td>\n",
              "      <td>male</td>\n",
              "      <td>78</td>\n",
              "      <td>193</td>\n",
              "      <td>97</td>\n",
              "      <td>2</td>\n",
              "      <td>84</td>\n",
              "      <td>38.3</td>\n",
              "      <td>11.0</td>\n",
              "    </tr>\n",
              "    <tr>\n",
              "      <th>14999</th>\n",
              "      <td>11751526</td>\n",
              "      <td>male</td>\n",
              "      <td>63</td>\n",
              "      <td>173</td>\n",
              "      <td>79</td>\n",
              "      <td>18</td>\n",
              "      <td>92</td>\n",
              "      <td>40.5</td>\n",
              "      <td>98.0</td>\n",
              "    </tr>\n",
              "  </tbody>\n",
              "</table>\n",
              "<p>15000 rows × 9 columns</p>\n",
              "</div>"
            ],
            "text/plain": [
              "        User_ID  Gender  Age  Height  ...  Duration  Heart_Rate  Body_Temp  Calories\n",
              "0      14733363    male   68     190  ...        29         105       40.8     231.0\n",
              "1      14861698  female   20     166  ...        14          94       40.3      66.0\n",
              "2      11179863    male   69     179  ...         5          88       38.7      26.0\n",
              "3      16180408  female   34     179  ...        13         100       40.5      71.0\n",
              "4      17771927  female   27     154  ...        10          81       39.8      35.0\n",
              "...         ...     ...  ...     ...  ...       ...         ...        ...       ...\n",
              "14995  15644082  female   20     193  ...        11          92       40.4      45.0\n",
              "14996  17212577  female   27     165  ...         6          85       39.2      23.0\n",
              "14997  17271188  female   43     159  ...        16          90       40.1      75.0\n",
              "14998  18643037    male   78     193  ...         2          84       38.3      11.0\n",
              "14999  11751526    male   63     173  ...        18          92       40.5      98.0\n",
              "\n",
              "[15000 rows x 9 columns]"
            ]
          },
          "metadata": {
            "tags": []
          },
          "execution_count": 41
        }
      ]
    },
    {
      "cell_type": "code",
      "metadata": {
        "id": "A8Jq4LTPIVmL"
      },
      "source": [
        "data_fin = data_fin.rename(columns={'Calories_y':'Calories'})"
      ],
      "execution_count": 40,
      "outputs": []
    },
    {
      "cell_type": "code",
      "metadata": {
        "id": "rnSfqln1IVny"
      },
      "source": [
        "x = data_fin.loc[:,['Duration']]\r\n",
        "y = data_fin.loc[:,['Calories']]"
      ],
      "execution_count": 42,
      "outputs": []
    },
    {
      "cell_type": "code",
      "metadata": {
        "colab": {
          "base_uri": "https://localhost:8080/"
        },
        "id": "jRBQ8nYZKTCg",
        "outputId": "3d6cb2c7-0f0d-4550-8afa-dc746d904421"
      },
      "source": [
        "print(x)"
      ],
      "execution_count": 43,
      "outputs": [
        {
          "output_type": "stream",
          "text": [
            "       Duration\n",
            "0            29\n",
            "1            14\n",
            "2             5\n",
            "3            13\n",
            "4            10\n",
            "...         ...\n",
            "14995        11\n",
            "14996         6\n",
            "14997        16\n",
            "14998         2\n",
            "14999        18\n",
            "\n",
            "[15000 rows x 1 columns]\n"
          ],
          "name": "stdout"
        }
      ]
    },
    {
      "cell_type": "code",
      "metadata": {
        "colab": {
          "base_uri": "https://localhost:8080/"
        },
        "id": "26Z7Z2TlKUX4",
        "outputId": "6de28c84-99fa-4350-d2c4-8d2845a7b091"
      },
      "source": [
        "print(y)"
      ],
      "execution_count": 44,
      "outputs": [
        {
          "output_type": "stream",
          "text": [
            "       Calories\n",
            "0         231.0\n",
            "1          66.0\n",
            "2          26.0\n",
            "3          71.0\n",
            "4          35.0\n",
            "...         ...\n",
            "14995      45.0\n",
            "14996      23.0\n",
            "14997      75.0\n",
            "14998      11.0\n",
            "14999      98.0\n",
            "\n",
            "[15000 rows x 1 columns]\n"
          ],
          "name": "stdout"
        }
      ]
    },
    {
      "cell_type": "code",
      "metadata": {
        "id": "MQV8Ee1SKkex"
      },
      "source": [
        "from sklearn.model_selection import train_test_split\r\n",
        "x_train,x_test,y_train,y_test = train_test_split(x,y,test_size = 0.3,random_state=0)"
      ],
      "execution_count": 46,
      "outputs": []
    },
    {
      "cell_type": "code",
      "metadata": {
        "colab": {
          "base_uri": "https://localhost:8080/"
        },
        "id": "RNkQksVLLRQX",
        "outputId": "5d56519f-1a81-480c-f9b1-8eea6cde64c4"
      },
      "source": [
        "print(x_train)"
      ],
      "execution_count": 47,
      "outputs": [
        {
          "output_type": "stream",
          "text": [
            "       Duration\n",
            "10439        23\n",
            "9236         16\n",
            "818          18\n",
            "11504        18\n",
            "11722        21\n",
            "...         ...\n",
            "13123        26\n",
            "3264          1\n",
            "9845         22\n",
            "10799        13\n",
            "2732          2\n",
            "\n",
            "[10500 rows x 1 columns]\n"
          ],
          "name": "stdout"
        }
      ]
    },
    {
      "cell_type": "code",
      "metadata": {
        "colab": {
          "base_uri": "https://localhost:8080/"
        },
        "id": "cqVMxIoZLTN6",
        "outputId": "1ea744d9-73b0-4294-e4a1-d92977888a5c"
      },
      "source": [
        "print(x_test)"
      ],
      "execution_count": 48,
      "outputs": [
        {
          "output_type": "stream",
          "text": [
            "       Duration\n",
            "1670          9\n",
            "13379         6\n",
            "10234        22\n",
            "4719         29\n",
            "7003         19\n",
            "...         ...\n",
            "13499        20\n",
            "3828         11\n",
            "4645         13\n",
            "6069         15\n",
            "2506          3\n",
            "\n",
            "[4500 rows x 1 columns]\n"
          ],
          "name": "stdout"
        }
      ]
    },
    {
      "cell_type": "code",
      "metadata": {
        "colab": {
          "base_uri": "https://localhost:8080/"
        },
        "id": "CbBe7enTLUTM",
        "outputId": "8167e162-4828-4568-f828-086f2221b489"
      },
      "source": [
        "print(y_train)"
      ],
      "execution_count": 49,
      "outputs": [
        {
          "output_type": "stream",
          "text": [
            "       Calories\n",
            "10439     164.0\n",
            "9236       71.0\n",
            "818       133.0\n",
            "11504     116.0\n",
            "11722     131.0\n",
            "...         ...\n",
            "13123     175.0\n",
            "3264        5.0\n",
            "9845      137.0\n",
            "10799      69.0\n",
            "2732        1.0\n",
            "\n",
            "[10500 rows x 1 columns]\n"
          ],
          "name": "stdout"
        }
      ]
    },
    {
      "cell_type": "code",
      "metadata": {
        "colab": {
          "base_uri": "https://localhost:8080/"
        },
        "id": "RWaeqglXLVeu",
        "outputId": "3b90514a-4fc7-44ee-beee-b8bf8014b7d2"
      },
      "source": [
        "print(y_test)"
      ],
      "execution_count": 50,
      "outputs": [
        {
          "output_type": "stream",
          "text": [
            "       Calories\n",
            "1670       43.0\n",
            "13379      15.0\n",
            "10234     101.0\n",
            "4719      186.0\n",
            "7003      126.0\n",
            "...         ...\n",
            "13499     111.0\n",
            "3828       42.0\n",
            "4645       47.0\n",
            "6069       66.0\n",
            "2506       10.0\n",
            "\n",
            "[4500 rows x 1 columns]\n"
          ],
          "name": "stdout"
        }
      ]
    },
    {
      "cell_type": "code",
      "metadata": {
        "colab": {
          "base_uri": "https://localhost:8080/"
        },
        "id": "gUBtvTvTLbP5",
        "outputId": "3c9412e2-775f-47fa-d234-17ead0c38c6f"
      },
      "source": [
        "from sklearn.linear_model import LinearRegression\r\n",
        "regressor = LinearRegression()\r\n",
        "regressor.fit(x_train,y_train)"
      ],
      "execution_count": 51,
      "outputs": [
        {
          "output_type": "execute_result",
          "data": {
            "text/plain": [
              "LinearRegression(copy_X=True, fit_intercept=True, n_jobs=None, normalize=False)"
            ]
          },
          "metadata": {
            "tags": []
          },
          "execution_count": 51
        }
      ]
    },
    {
      "cell_type": "code",
      "metadata": {
        "id": "hoY1TCwLLmgQ"
      },
      "source": [
        "y_pred = regressor.predict(x_test)"
      ],
      "execution_count": 52,
      "outputs": []
    },
    {
      "cell_type": "code",
      "metadata": {
        "colab": {
          "base_uri": "https://localhost:8080/",
          "height": 295
        },
        "id": "DBsPqXhaMFmj",
        "outputId": "10f17f6a-e068-4208-d5bb-fe75d11e3de6"
      },
      "source": [
        "plt.scatter(x_train,y_train,color='red')\r\n",
        "plt.plot(x_train,regressor.predict(x_train),color='blue')\r\n",
        "plt.title('Calories Burned vs Duration of exercise(Training Set)')\r\n",
        "plt.xlabel('Duration Of Exercise')\r\n",
        "plt.ylabel('Calories Burned')\r\n",
        "plt.show()"
      ],
      "execution_count": 55,
      "outputs": [
        {
          "output_type": "display_data",
          "data": {
            "image/png": "[encoded data removed]",
            "text/plain": [
              "<Figure size 432x288 with 1 Axes>"
            ]
          },
          "metadata": {
            "tags": [],
            "needs_background": "light"
          }
        }
      ]
    },
    {
      "cell_type": "code",
      "metadata": {
        "colab": {
          "base_uri": "https://localhost:8080/",
          "height": 295
        },
        "id": "vmwCkJBWM4yR",
        "outputId": "2a3fcbec-406b-43c0-b2c7-4d96d3d40798"
      },
      "source": [
        "plt.scatter(x_test,y_test,color='red',alpha=0.5)\r\n",
        "plt.plot(x_test,regressor.predict(x_test),color='blue')\r\n",
        "plt.title('Calories Burned vs Duration of exercise(Test Set)')\r\n",
        "plt.xlabel('Duration Of Exercise')\r\n",
        "plt.ylabel('Calories Burned')\r\n",
        "plt.show()\r\n"
      ],
      "execution_count": 58,
      "outputs": [
        {
          "output_type": "display_data",
          "data": {
            "image/png": "[encoded data removed]",
            "text/plain": [
              "<Figure size 432x288 with 1 Axes>"
            ]
          },
          "metadata": {
            "tags": [],
            "needs_background": "light"
          }
        }
      ]
    },
    {
      "cell_type": "code",
      "metadata": {
        "colab": {
          "base_uri": "https://localhost:8080/"
        },
        "id": "_oDZN-gQNMhQ",
        "outputId": "563a36ed-7380-48b7-8c8e-079407f7d618"
      },
      "source": [
        "from sklearn.metrics import r2_score\r\n",
        "r2_score(y_pred,y_test)"
      ],
      "execution_count": 57,
      "outputs": [
        {
          "output_type": "execute_result",
          "data": {
            "text/plain": [
              "0.9092356040296028"
            ]
          },
          "metadata": {
            "tags": []
          },
          "execution_count": 57
        }
      ]
    }
  ]
}